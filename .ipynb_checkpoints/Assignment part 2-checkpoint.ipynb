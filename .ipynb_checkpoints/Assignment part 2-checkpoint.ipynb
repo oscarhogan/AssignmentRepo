{
 "cells": [
  {
   "cell_type": "markdown",
   "id": "0b5429e8-1ba2-4777-bf53-c886fa880cde",
   "metadata": {},
   "source": [
    "## __Week3 Challenge 2__ ## "
   ]
  },
  {
   "cell_type": "markdown",
   "id": "88390e91-e940-41bc-9470-1160d9d166b8",
   "metadata": {},
   "source": [
    "https://universityofstandrews907-my.sharepoint.com/:f:/r/personal/ofh1_st-andrews_ac_uk/Documents/Python%20Assignment%201/Assingment?csf=1&web=1&e=Ceg3tv"
   ]
  },
  {
   "cell_type": "code",
   "execution_count": null,
   "id": "d7be7efc-79d2-4600-95d9-a8adde3861df",
   "metadata": {},
   "outputs": [],
   "source": [
    "import holoviews as hv, pandas as pd, colorcet as cc\n",
    "from holoviews.element.tiles import EsriImagery\n",
    "from holoviews.operation.datashader import datashade\n",
    "hv.extension('bokeh')"
   ]
  },
  {
   "cell_type": "markdown",
   "id": "6df9c75b-c2d3-4a1d-9357-046017e44b52",
   "metadata": {},
   "source": [
    "This challenge is orientated around loading in an absolutely ridiculous amount of data using the datashader extension which aggregates data onto a canvas outcome without represnting each point specifically. Rather each pixel shown on the map is given a colour value in accordance with the amount of events occuring immediately adjacent. As such the outcome is not perfectly geographically accurate but gives a broad outcome incorporating millions of points."
   ]
  },
  {
   "cell_type": "code",
   "execution_count": null,
   "id": "44025d6b-e07f-4973-befb-262da251a950",
   "metadata": {},
   "outputs": [],
   "source": [
    "import pandas as pd\n",
    "df = pd.read_csv(\"data/Listing_of_All_Businesses_20240215.csv\")\n",
    "df.head()"
   ]
  },
  {
   "cell_type": "code",
   "execution_count": null,
   "id": "8f88fd12-c750-4b62-84e8-e59fc50e4abe",
   "metadata": {},
   "outputs": [],
   "source": [
    "keep_cols = [\n",
    "    \"LOCATION\",\n",
    "    \"CITY\",]\n",
    "\n",
    "results = df[keep_cols]\n",
    "\n",
    "results.head()"
   ]
  },
  {
   "cell_type": "markdown",
   "id": "9191e57d-f928-4013-87f5-3dd33eb87940",
   "metadata": {},
   "source": [
    "Here I'm filtering the data down to just the location and city of each point. Provided I tried to work with other catergorical data but I just couldn't get to work. Ideally the outcome would have included a colour-coded outcome depicting each of the catergorisations but I struggled."
   ]
  },
  {
   "cell_type": "markdown",
   "id": "175914f1-4c77-45af-906e-0f0de4a679f6",
   "metadata": {},
   "source": [
    "Given how many points there were my computer is on the verge of selfdestruction, so as noted in the challenge outline I've filtered the datapoints down to a measly 760,000 by seleting points based exclusively in LA County."
   ]
  },
  {
   "cell_type": "code",
   "execution_count": null,
   "id": "571dd709-3c0a-45c3-97f8-9cca292a0454",
   "metadata": {},
   "outputs": [],
   "source": [
    "LAONLY = results[results['CITY'] == \"LOS ANGELES\"]\n",
    "LAONLY"
   ]
  },
  {
   "cell_type": "code",
   "execution_count": null,
   "id": "3d9bb3fc-9b28-42e0-b4dd-d4e4d0279788",
   "metadata": {},
   "outputs": [],
   "source": [
    "LAONLY[['LATITUDE', 'LONGITUDE']] = LAONLY['LOCATION'].str.strip('()').str.split(', ', expand=True).astype(float)\n",
    "\n",
    "# Drop the original 'coordinates' column if needed\n",
    "LAONLY.drop('LOCATION', axis=1, inplace=True)\n",
    "\n",
    "LAONLY.head()"
   ]
  },
  {
   "cell_type": "code",
   "execution_count": null,
   "id": "4eed18cf-926b-499c-9134-9cb026c5c8e9",
   "metadata": {},
   "outputs": [],
   "source": [
    "LAONLY.dtypes"
   ]
  },
  {
   "cell_type": "code",
   "execution_count": null,
   "id": "62f77858-444b-44c3-b47c-374cbc118ee7",
   "metadata": {},
   "outputs": [],
   "source": [
    "import requests\n",
    "import geopandas as gpd"
   ]
  },
  {
   "cell_type": "code",
   "execution_count": null,
   "id": "eef5f25d-56a4-4585-af20-e58d38a181a6",
   "metadata": {},
   "outputs": [],
   "source": [
    "geometry = gpd.points_from_xy(LAONLY['LONGITUDE'], LAONLY['LATITUDE'])\n",
    "gdf = gpd.GeoDataFrame(LAONLY, crs=\"EPSG:4326\",geometry=geometry)\n",
    "gdf.head()"
   ]
  },
  {
   "cell_type": "code",
   "execution_count": null,
   "id": "3da4226e-963d-4977-96a8-afbac35917b1",
   "metadata": {},
   "outputs": [],
   "source": [
    "gdf = gdf.to_crs('EPSG:3857')\n",
    "gdf.head()"
   ]
  },
  {
   "cell_type": "code",
   "execution_count": null,
   "id": "24bb49b1-81ba-4df9-8c64-75d72fc4bafa",
   "metadata": {},
   "outputs": [],
   "source": [
    "gdf.dtypes"
   ]
  },
  {
   "cell_type": "markdown",
   "id": "01e57ad9-3b99-46d5-90b2-03da42f67a1b",
   "metadata": {},
   "source": [
    "I use the geometry.x and y methods to assign geometry values to two newly created columes 'easting' and 'northing'"
   ]
  },
  {
   "cell_type": "code",
   "execution_count": null,
   "id": "6acf3217-2101-43ee-8e3a-a44e051e7216",
   "metadata": {},
   "outputs": [],
   "source": [
    "gdf['easting'] = gdf.geometry.x\n",
    "gdf['northing'] = gdf.geometry.y\n",
    "\n",
    "gdfnew = gdf.drop(columns=['LATITUDE', 'LONGITUDE', 'geometry', 'CITY'])\n",
    "\n",
    "gdfnew.head()\n"
   ]
  },
  {
   "cell_type": "code",
   "execution_count": null,
   "id": "1a9e070b-0a10-48ec-8c4b-9a5cb8402793",
   "metadata": {},
   "outputs": [],
   "source": [
    "import hvplot.pandas\n",
    "\n",
    "map_tiles = EsriImagery().opts(alpha=0.5, width=900, height=480, bgcolor='black')\n",
    "plot = gdfnew.hvplot(\n",
    "    'easting',\n",
    "    'northing',\n",
    "    kind='scatter',\n",
    "    rasterize=True,\n",
    "    cmap=cc.fire,\n",
    "    cnorm='eq_hist'\n",
    ")\n",
    "map_tiles * plot"
   ]
  },
  {
   "cell_type": "markdown",
   "id": "135208d7-d1ac-4d45-906e-c1935b72a66f",
   "metadata": {},
   "source": [
    "## __Week 4 challenges__ ##"
   ]
  },
  {
   "cell_type": "markdown",
   "id": "a79c2c1d-3076-4b84-8089-1f37e67831a0",
   "metadata": {},
   "source": [
    "Challenge 2 (Challenge 1 omitted)"
   ]
  },
  {
   "cell_type": "markdown",
   "id": "ec742a0e-3297-435d-896f-e79867056f98",
   "metadata": {},
   "source": [
    "![image.png](MapRichmond.png)"
   ]
  },
  {
   "cell_type": "markdown",
   "id": "daf39abe-7a02-4417-97d0-ab5d38d5d183",
   "metadata": {},
   "source": [
    "https://uostandrews.maps.arcgis.com/apps/dashboards/c0a0836851b143178737f6628facb933#mode=edit"
   ]
  },
  {
   "cell_type": "markdown",
   "id": "484a1408-08d6-4724-8428-3e7f48c79e8b",
   "metadata": {},
   "source": [
    "Here is the screenshot of the ArcGis online dashboard outcome. It was easy enough to produce and looks rather nice"
   ]
  },
  {
   "cell_type": "code",
   "execution_count": null,
   "id": "c33efd5e-e09d-40b3-878b-63e427184c84",
   "metadata": {},
   "outputs": [],
   "source": [
    "import mapclassify as mc\n",
    "import matplotlib.pyplot as plt\n",
    "import folium\n",
    "import seaborn as sns\n",
    "\n",
    "import plotly.express as px\n",
    "import geopandas as gpd\n",
    "\n",
    "shapefile_path = 'Week4/SG_SIMD_2020.shp'\n",
    "gdf = gpd.read_file(shapefile_path)\n",
    "\n",
    "gdf.set_index('DataZone', inplace=True)\n",
    "gdf.head() "
   ]
  },
  {
   "cell_type": "markdown",
   "id": "2e5933c8-7a46-40b6-915d-03f233a76855",
   "metadata": {},
   "source": [
    "In this istance I am attempting to produce chloropleth maps using the rather nice seaborn package. The intial map is to show off the distribution of those without formal qualifications within the City of Edinburgh itself."
   ]
  },
  {
   "cell_type": "code",
   "execution_count": null,
   "id": "52a5b786-b195-4d2c-a977-bde7944a2c9d",
   "metadata": {},
   "outputs": [],
   "source": [
    "gdfEdin = gdf[gdf.LAName == \"City of Edinburgh\"]"
   ]
  },
  {
   "cell_type": "markdown",
   "id": "97ab13e1-7f5a-44d2-9134-d5fd264c47b9",
   "metadata": {},
   "source": [
    "Thus the initial move is to subset exclusively for Edinburgh itself."
   ]
  },
  {
   "cell_type": "code",
   "execution_count": null,
   "id": "768568b8-5f68-47ef-8fc0-202b2b9c9774",
   "metadata": {},
   "outputs": [],
   "source": [
    "fig, axes = plt.subplots(1, 1, figsize=(8, 5))\n",
    "\n",
    "sns.histplot(data=gdfEdin, x=\"EduNoQuals\",ax=axes, kde=True)\n",
    "\n",
    "axes.set_title(\"No Qualification Count\")\n",
    "\n",
    "plt.tight_layout()\n",
    "plt.show()"
   ]
  },
  {
   "cell_type": "markdown",
   "id": "f17cdb0c-a069-4a4c-81b4-d6a2883c178d",
   "metadata": {},
   "source": [
    "Initially I produce a histogram of the points, demonstrating the manner in which the majority of Edinburghs Datazones hold only a small amount of indviduals without formal qualifications"
   ]
  },
  {
   "cell_type": "markdown",
   "id": "faf169de-2bb1-413b-a627-669dd4f2a83f",
   "metadata": {},
   "source": [
    "I then run two classification methods as to provide optimal bounds for the data as presented. The Fisher Jenks technique considers an algorithm which produces a set of natural breaks optimized to the datas distribution, whereas the Equal Interval technique provides bins at a sequence of set values irrespective of distribution."
   ]
  },
  {
   "cell_type": "code",
   "execution_count": null,
   "id": "8c2840b2-fd30-46bd-9d6b-2847933027b9",
   "metadata": {},
   "outputs": [],
   "source": [
    "num_classes = 5\n",
    "\n",
    "# Using Fisher Jenks\n",
    "\n",
    "classifier_fj = mc.FisherJenks(gdfEdin['EduNoQuals'], k=num_classes)\n",
    "print(classifier_fj)\n",
    "print(min(classifier_fj.bins), max(classifier_fj.bins))\n",
    "print(classifier_fj.bins) \n",
    "\n",
    "# Using Equal Interval \n",
    "classifier_ei = mc.EqualInterval(gdfEdin['EduNoQuals'], k=num_classes)\n",
    "print(classifier_ei)\n",
    "print(min(classifier_ei.bins), max(classifier_ei.bins))\n",
    "print(classifier_ei.bins) "
   ]
  },
  {
   "cell_type": "code",
   "execution_count": null,
   "id": "5e1309e2-14c7-4430-a488-84e5e13ffbe7",
   "metadata": {},
   "outputs": [],
   "source": [
    "fig, axes = plt.subplots(1, 2, figsize=(15, 5))\n",
    "\n",
    "#Fisher Jenkin plot \n",
    "\n",
    "sns.histplot(data=gdfEdin, x=\"EduNoQuals\", ax=axes[0], kde=True, bins=20)\n",
    "axes[0].axvline(classifier_fj.bins[0], color='red', linestyle='dashed', linewidth=2, label='Fisher Jenks')\n",
    "for bin_value in classifier_fj.bins:\n",
    "    axes[0].axvline(bin_value, color='red', linestyle='dashed', linewidth=2)\n",
    "axes[0].set_title(\"EduNoQuals Histogram with Fisher Jenks Breaks\")\n",
    "axes[0].legend()\n",
    "\n",
    "#Quantile plot\n",
    "\n",
    "sns.histplot(data=gdfEdin, x=\"EduNoQuals\", ax=axes[1], kde=True, bins=20)\n",
    "axes[1].axvline(classifier_ei.bins[0], color='blue', linestyle='dashed', linewidth=2, label='Quantiles')\n",
    "for bin_value in classifier_ei.bins:\n",
    "    axes[1].axvline(bin_value, color='blue', linestyle='dashed', linewidth=2)\n",
    "axes[1].set_title(\"EduNoQuals Histogram with Quantiles\")\n",
    "axes[1].legend()\n",
    "\n",
    "# 4. Adjust the plot.\n",
    "plt.tight_layout()\n",
    "plt.show()"
   ]
  },
  {
   "cell_type": "markdown",
   "id": "d2aae68a-9f44-4f0a-ad8b-86650df94321",
   "metadata": {},
   "source": [
    "Upon studying the graphs one notes the fashion in which Fisher Jenks Breaks are biased toward the peak of the bell curve thus providing a set of bins which splits the Datazones into catergorys of a more equal number unlike the Equal Interval alternative.\n",
    "\n"
   ]
  },
  {
   "cell_type": "code",
   "execution_count": null,
   "id": "b9485e24-9fbc-4ad2-82ce-28aef1c54fe5",
   "metadata": {
    "scrolled": true
   },
   "outputs": [],
   "source": [
    "fig, axs = plt.subplots(1, 2, figsize=(18, 8))\n",
    "\n",
    "gdfEdin.plot(column='EduNoQuals', ax=axs[0],\n",
    "         legend=True, cmap='Reds',\n",
    "         scheme='UserDefined',\n",
    "         classification_kwds={'bins': classifier_fj.bins}\n",
    "        )\n",
    "\n",
    "axs[0].set_title(\"Choropleth Map with Fisher Jenks\")\n",
    "\n",
    "gdfEdin.plot(column='EduNoQuals', ax=axs[1],\n",
    "         legend=True, cmap='Reds',\n",
    "         scheme='UserDefined',\n",
    "         classification_kwds={'bins': classifier_ei.bins})\n",
    "\n",
    "axs[1].set_title(\"Choropleth Map with Equal Intervals\")\n",
    "\n",
    "plt.tight_layout() #Optional but useful.\n",
    "plt.show()"
   ]
  },
  {
   "cell_type": "markdown",
   "id": "905faa20-48fd-4d38-9ed2-b3f788e41ae2",
   "metadata": {},
   "source": [
    "indeed, I prefer the visualisation of the Fisher Jenks map as it allows for a more nuanced analysis of the difference in value over the peak of the datas bell curve."
   ]
  },
  {
   "cell_type": "code",
   "execution_count": null,
   "id": "211ed6ac-eeec-43ea-b405-d4767b36ca58",
   "metadata": {},
   "outputs": [],
   "source": [
    "shapefile_path = 'Week4/SG_SIMD_2020.shp'\n",
    "gdf = gpd.read_file(shapefile_path)\n",
    "\n",
    "gdf.set_index('DataZone', inplace=True)\n",
    "gdf.head() \n",
    "\n",
    "gdfGlas = gdf[gdf.LAName == \"Glasgow City\"] #just Glasgow\n",
    "gdfGlas.head()"
   ]
  },
  {
   "cell_type": "markdown",
   "id": "bbb555be-1131-4d57-a8e3-fd3422ff4727",
   "metadata": {},
   "source": [
    "Here I am to create two interactive maps one for Edinburgh, and another for Glasgow. The indcator used will be drug related hospital admittances."
   ]
  },
  {
   "cell_type": "code",
   "execution_count": null,
   "id": "64ebf622-e07b-4530-845b-2f2433f69544",
   "metadata": {},
   "outputs": [],
   "source": [
    "fig, axes = plt.subplots(1, 1, figsize=(8, 5))\n",
    "\n",
    "sns.histplot(data=gdfGlas, x=\"HlthDrugSR\",ax=axes, kde=True)\n",
    "\n",
    "axes.set_title(\"Drug related hospital stays\")\n",
    "\n",
    "plt.tight_layout()\n",
    "plt.show()\n"
   ]
  },
  {
   "cell_type": "markdown",
   "id": "304d7a69-db8d-4d6a-9103-0ba68ebb1784",
   "metadata": {},
   "source": [
    "The histogram exposes a very high concentration of points toward the lower values, albeit with a considerable tail. As such I believe it would make sense to use breaks akin to Fisher Jenkins, albeit will run the algorithm to observe the location of breaks ourselves.\n",
    "\n"
   ]
  },
  {
   "cell_type": "code",
   "execution_count": null,
   "id": "c56e8e02-e644-4187-86c8-414eabf4f164",
   "metadata": {},
   "outputs": [],
   "source": [
    "num_classes = 5\n",
    "\n",
    "# Using Fisher Jenks\n",
    "\n",
    "classifier_fj = mc.FisherJenks(gdfGlas['HlthDrugSR'], k=num_classes)\n",
    "print(classifier_fj)\n",
    "print(min(classifier_fj.bins), max(classifier_fj.bins))\n",
    "print(classifier_fj.bins) \n",
    "\n",
    "# Using Equal Interval \n",
    "classifier_ei = mc.EqualInterval(gdfGlas['HlthDrugSR'], k=num_classes)\n",
    "print(classifier_ei)\n",
    "print(min(classifier_ei.bins), max(classifier_ei.bins))\n",
    "print(classifier_ei.bins)"
   ]
  },
  {
   "cell_type": "code",
   "execution_count": null,
   "id": "133948dd-690f-4a2b-b966-a717af4f798f",
   "metadata": {
    "scrolled": true
   },
   "outputs": [],
   "source": [
    "fig, axes = plt.subplots(1, 2, figsize=(15, 5))\n",
    "\n",
    "#fisher jenks plot \n",
    "\n",
    "sns.histplot(data=gdfGlas, x=\"HlthDrugSR\", ax=axes[0], kde=True, bins=20)\n",
    "axes[0].axvline(classifier_fj.bins[0], color='red', linestyle='dashed', linewidth=2, label='Fisher Jenks')\n",
    "for bin_value in classifier_fj.bins:\n",
    "    axes[0].axvline(bin_value, color='red', linestyle='dashed', linewidth=2)\n",
    "axes[0].set_title(\"HlthDrugSR Histogram with Fisher Jenks Breaks\")\n",
    "axes[0].legend()\n",
    "\n",
    "#Quantile plot\n",
    "\n",
    "sns.histplot(data=gdfGlas, x=\"HlthDrugSR\", ax=axes[1], kde=True, bins=20)\n",
    "axes[1].axvline(classifier_ei.bins[0], color='blue', linestyle='dashed', linewidth=2, label='Quantiles')\n",
    "for bin_value in classifier_ei.bins:\n",
    "    axes[1].axvline(bin_value, color='blue', linestyle='dashed', linewidth=2)\n",
    "axes[1].set_title(\"HlthDrugSR Histogram with Quantiles\")\n",
    "axes[1].legend()\n",
    "\n",
    "plt.tight_layout()\n",
    "plt.show()"
   ]
  },
  {
   "cell_type": "markdown",
   "id": "a14e53c5-ba30-4cb4-b822-ba1bc1631373",
   "metadata": {},
   "source": [
    "As hypothesised it seems apt to use Fisher Jenks in this instance allowing for a more marked interpretation of both variation within the bell-curve peak itself and of the outlying points."
   ]
  },
  {
   "cell_type": "code",
   "execution_count": null,
   "id": "68ba6441-0859-42af-a2d2-22f7181f3344",
   "metadata": {},
   "outputs": [],
   "source": [
    "num_classes = 5\n",
    "\n",
    "classifier_fj = mc.FisherJenks(gdfGlas['HlthDrugSR'], k=num_classes)\n",
    "gdfGlas['classification_fj'] = classifier_fj.yb \n",
    "\n",
    "print(classifier_fj)\n",
    "print(gdfGlas[['HlthDrugSR', 'classification_fj']])\n"
   ]
  },
  {
   "cell_type": "markdown",
   "id": "1be05232-c4c2-4617-8d79-0db77b213045",
   "metadata": {},
   "source": [
    "Here, I am using the code for the static plot just to gain an insight into the way everything looks - especcially regarding the lovely 'Reds' c.map . We can clearly observe the locations which appaear to be among the worst affected by Drug influenced Hospital admittances.\n",
    "\n"
   ]
  },
  {
   "cell_type": "code",
   "execution_count": null,
   "id": "5244b3e5-fbf9-4c53-a3bf-14c0b39f1312",
   "metadata": {
    "scrolled": true
   },
   "outputs": [],
   "source": [
    "fig, ax = plt.subplots(figsize=(12, 10))\n",
    "gdfGlas.plot(column='HlthDrugSR', ax=ax,\n",
    "         legend=True, cmap='Reds',\n",
    "         scheme='UserDefined',\n",
    "         classification_kwds={'bins': classifier_fj.bins} \n",
    "        )\n",
    "plt.title(\"Choropleth Map Glasgow\")\n",
    "plt.show()"
   ]
  },
  {
   "cell_type": "code",
   "execution_count": null,
   "id": "3935d128-678c-425e-a6a6-21f7b70e5ce6",
   "metadata": {},
   "outputs": [],
   "source": [
    "gdfGlas.crs"
   ]
  },
  {
   "cell_type": "code",
   "execution_count": null,
   "id": "49679b1f-bef0-489f-8e73-688f8cfa76da",
   "metadata": {},
   "outputs": [],
   "source": [
    "gdfGlas = gdfGlas.to_crs(epsg=4326)"
   ]
  },
  {
   "cell_type": "code",
   "execution_count": null,
   "id": "b65c598e-72c5-42f3-bbde-3525b857567e",
   "metadata": {},
   "outputs": [],
   "source": [
    "import plotly.express as px\n",
    "\n",
    "fig1 = px.choropleth_mapbox(gdfGlas,\n",
    "                           geojson=gdfGlas.geometry,\n",
    "                           locations=gdfGlas.index,\n",
    "                           color=\"HlthDrugSR\",\n",
    "                           color_continuous_scale=\"Reds\",\n",
    "                           range_color=(0, 1575),\n",
    "                           opacity=0.5,\n",
    "                           center={\"lat\": 55.866193, \"lon\": -4.258246},\n",
    "                           mapbox_style=\"carto-positron\",\n",
    "                           zoom=9.5)\n",
    "fig1.update_layout(margin={\"r\": 0, \"t\": 0, \"l\": 0, \"b\": 0})\n",
    "fig1.show()"
   ]
  },
  {
   "cell_type": "markdown",
   "id": "7d97d4ed-6f07-4765-b545-789fbb8b65b8",
   "metadata": {},
   "source": [
    "\n",
    "And here we obtain a lovely chloropleth map of Glasgow featuring of desired variable and using our calculated brakes. I'm suprised by how smoothly this has gone in contrast with the prior section."
   ]
  },
  {
   "cell_type": "markdown",
   "id": "df454c5d-cb50-4591-842f-14ddf9055606",
   "metadata": {},
   "source": [
    "We are to repeat the above steps with the intention of creating a comparable map for Edinburgh. A word of note however is the fact that I've chosen to retain the breaks used in Glasgow and applied them to the Edinburgh map. This is such that we can establish an immediate visual comparison. A downside of this is that the inter - Edinburgh variation of values is less pronounced, however given the fact that the chief desire is to provide contrast between the two cities I think this is more than acceptable"
   ]
  },
  {
   "cell_type": "code",
   "execution_count": null,
   "id": "52ee73c5-bd0f-4638-a60f-44ce56cf4c39",
   "metadata": {},
   "outputs": [],
   "source": [
    "shapefile_path = 'Week4/SG_SIMD_2020.shp'\n",
    "gdf = gpd.read_file(shapefile_path)\n",
    "\n",
    "gdf.set_index('DataZone', inplace=True)\n",
    "gdf.head() \n",
    "\n",
    "gdfEdi = gdf[gdf.LAName == \"City of Edinburgh\"] #just Edinburgh\n",
    "gdfEdi.head()\n",
    "gdfEdi.columns"
   ]
  },
  {
   "cell_type": "code",
   "execution_count": null,
   "id": "13791b8a-31d1-4a22-8068-f3128600c3bf",
   "metadata": {},
   "outputs": [],
   "source": [
    "fig, axes = plt.subplots(1, 1, figsize=(8, 5))\n",
    "\n",
    "sns.histplot(data=gdfEdi, x=\"HlthDrugSR\", kde=True)\n",
    "\n",
    "ax.set_title(\"Drug related hospital stays\")\n",
    "\n",
    "plt.tight_layout()\n",
    "plt.show()"
   ]
  },
  {
   "cell_type": "code",
   "execution_count": null,
   "id": "3272da13-9cfd-45f5-8aeb-172a10e7ccb3",
   "metadata": {},
   "outputs": [],
   "source": [
    "fig, ax = plt.subplots(figsize=(12, 10))\n",
    "gdfEdi.plot(column='HlthDrugSR', ax=ax,\n",
    "         legend=True, cmap='Reds',\n",
    "         scheme='UserDefined',\n",
    "         classification_kwds={'bins': classifier_fj.bins} \n",
    "        )\n",
    "plt.title(\"Choropleth Map Edinburgh\")\n",
    "plt.show()"
   ]
  },
  {
   "cell_type": "code",
   "execution_count": null,
   "id": "76a862da-9035-477f-939a-5496aa926f79",
   "metadata": {
    "scrolled": true
   },
   "outputs": [],
   "source": [
    "fig, axs = plt.subplots(1, 2, figsize=(18, 8))\n",
    "\n",
    "gdfEdi.plot(column='HlthDrugSR', ax=axs[0],\n",
    "             legend=True, cmap='Reds',\n",
    "             scheme='UserDefined',\n",
    "             classification_kwds={'bins': classifier_fj.bins} \n",
    "            )\n",
    "axs[0].set_title(\"rug related hospitalizations - Edinburgh\")\n",
    "\n",
    "gdfGlas.plot(column='HlthDrugSR', ax=axs[1],\n",
    "              legend=True, cmap='Reds',\n",
    "              scheme='UserDefined',\n",
    "              classification_kwds={'bins': classifier_fj.bins} \n",
    "             )\n",
    "axs[1].set_title(\"Drug related hospitalizations - Glasgow\")\n",
    "\n",
    "plt.tight_layout() \n",
    "plt.show()"
   ]
  },
  {
   "cell_type": "code",
   "execution_count": null,
   "id": "a3202830-7a12-40ee-8bd1-80edfa55d5d5",
   "metadata": {},
   "outputs": [],
   "source": [
    "gdfEdi = gdfEdi.to_crs(epsg=4326)"
   ]
  },
  {
   "cell_type": "code",
   "execution_count": null,
   "id": "a93dfbfb-f514-491a-8b2b-65c81f71e929",
   "metadata": {},
   "outputs": [],
   "source": [
    "import plotly.express as px\n",
    "\n",
    "fig = px.choropleth_mapbox(gdfEdi,\n",
    "                           geojson=gdfEdi.geometry,\n",
    "                           locations=gdfEdi.index,\n",
    "                           color=\"HlthDrugSR\",\n",
    "                           color_continuous_scale=\"Reds\",\n",
    "                           range_color=(0, 1575),\n",
    "                           opacity=0.5,\n",
    "                           center={\"lat\": 55.953251, \"lon\": -3.188267},\n",
    "                           mapbox_style=\"carto-positron\",\n",
    "                           zoom=9.5)\n",
    "fig.update_layout(margin={\"r\": 0, \"t\": 0, \"l\": 0, \"b\": 0})\n",
    "fig.show()"
   ]
  },
  {
   "cell_type": "code",
   "execution_count": null,
   "id": "916f50f6-a67a-48b5-8389-388f1b0ebc25",
   "metadata": {},
   "outputs": [],
   "source": [
    "fig1.show()"
   ]
  },
  {
   "cell_type": "markdown",
   "id": "8337cc9b-bffc-4784-8cd3-27ddf7a45afa",
   "metadata": {},
   "source": [
    "And there you go... Clearly we can observe that on a whole Edinburgh seems a reduced amount of drug related hospital entrys albeit this may not be a fair comparison given the variation in population between the two conglomerations. I'd image a per capita measure to be more appropriate."
   ]
  }
 ],
 "metadata": {
  "kernelspec": {
   "display_name": "Python 3 (ipykernel)",
   "language": "python",
   "name": "python3"
  },
  "language_info": {
   "codemirror_mode": {
    "name": "ipython",
    "version": 3
   },
   "file_extension": ".py",
   "mimetype": "text/x-python",
   "name": "python",
   "nbconvert_exporter": "python",
   "pygments_lexer": "ipython3",
   "version": "3.10.13"
  }
 },
 "nbformat": 4,
 "nbformat_minor": 5
}
